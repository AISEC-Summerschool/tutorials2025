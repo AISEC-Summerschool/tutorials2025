{
 "cells": [
  {
   "metadata": {},
   "cell_type": "markdown",
   "source": "# XAI for Security Tutorial Part 2"
  },
  {
   "metadata": {},
   "cell_type": "markdown",
   "source": "#### Run these cells to mount the notebook to the drive folder and set the correct paths"
  },
  {
   "cell_type": "code",
   "execution_count": null,
   "metadata": {
    "colab": {
     "base_uri": "https://localhost:8080/"
    },
    "id": "OQFt74meTJ4z",
    "outputId": "150de052-1b43-46bf-9a32-45081e2a5cf5"
   },
   "outputs": [],
   "source": [
    "from google.colab import drive\n",
    "drive.mount('/content/drive')"
   ]
  },
  {
   "cell_type": "code",
   "execution_count": null,
   "metadata": {
    "id": "UXw08rQKUpkc"
   },
   "outputs": [],
   "source": [
    "import sys\n",
    "repo_path = \"/content/drive/MyDrive/AISEC-SummerSchool-2025/XAI for Security/drebin_xai\"\n",
    "data_path = \"/content/drive/MyDrive/AISEC-SummerSchool-2025/XAI for Security/drebin_xai/data\"\n",
    "sys.path.append(f\"{repo_path}/src\")\n"
   ]
  },
  {
   "cell_type": "markdown",
   "metadata": {
    "id": "NzdJgr4Ac31x"
   },
   "source": "#### Run these cells to install and load necessary packages"
  },
  {
   "cell_type": "code",
   "execution_count": null,
   "metadata": {
    "colab": {
     "base_uri": "https://localhost:8080/"
    },
    "id": "fE6nDpAnszIe",
    "outputId": "9b75dd23-167c-4f0f-b412-c76844489a36"
   },
   "outputs": [],
   "source": [
    "# Install model and training environment\n",
    "!pip install pytorch_lightning"
   ]
  },
  {
   "metadata": {},
   "cell_type": "code",
   "outputs": [],
   "execution_count": null,
   "source": [
    "# Load necesarry packages\n",
    "import json\n",
    "import pandas as pd\n",
    "import numpy as np\n",
    "import zipfile\n",
    "import os\n",
    "import matplotlib.pyplot as plt\n",
    "from sklearn.model_selection import train_test_split\n",
    "import torch\n",
    "from torch.utils.data import Dataset, DataLoader\n",
    "import torch.nn as nn\n",
    "import torch.optim as optim\n",
    "import pytorch_lightning as pl\n",
    "from torchmetrics.classification import Accuracy\n",
    "from pathlib import Path\n",
    "from typing import List, Dict\n",
    "from sklearn.datasets import load_svmlight_file"
   ]
  },
  {
   "metadata": {},
   "cell_type": "markdown",
   "source": [
    "# 2 Gradient-based explanations\n",
    "\n",
    "In this section we will implement two approaches to use gradients to explain a machine learning method.\n",
    "\n",
    "### 2.1 Vanilla Gradient\n",
    "\n",
    "For vanilla gradients, the gradients of a model should be calculated w.r.t. to an input instance and the corresponding model output. This is not so different from the warm-up task, as a machine learning model can also be considered a large function.\n",
    "\n",
    "### 2.2 Gradient x Input\n",
    "\n",
    "In the previous approach, only the gradients of the model prediction in relation to the input were analyzed. This type of explanation can also be interpreted as sensitivity. They reflect how the prediction responds to infinitesimal changes in the inputs. However, the values of the input features have not been taken into account so far. As the name of the method suggests, the values of an input instance are multiplied by the gradients."
   ]
  },
  {
   "metadata": {},
   "cell_type": "code",
   "outputs": [],
   "execution_count": null,
   "source": [
    "class GradientExplainer:\n",
    "  def __init__(self, model):\n",
    "    self.model = model\n",
    "    self.model.eval()\n",
    "\n",
    "  def prep_input(input):\n",
    "      # Ensure that input is tensor\n",
    "      if isinstance(input, np.ndarray):\n",
    "        input = torch.from_numpy(input)\n",
    "        input = input.float()\n",
    "      input = input.unsqueeze(0).clone().detach()\n",
    "      return input\n",
    "\n",
    "  # TODO: Implement vanilla gradients explanation approach\n",
    "  def vanilla_gradient(self, input, target=None):\n",
    "    input = GradientExplainer.prep_input(input)\n",
    "\n",
    "    # Your code here\n",
    "    input.requires_grad = True\n",
    "    # Forward-pass\n",
    "    output = self.model(input)\n",
    "\n",
    "    # Remove batch dimension\n",
    "    output = output.squeeze(0)\n",
    "    # Determine scalar for backprop\n",
    "    if output.dim() == 0:\n",
    "        logit = output\n",
    "    else:\n",
    "        predicted_class = output.argmax().item()\n",
    "        logit = output[predicted_class]\n",
    "\n",
    "    # Your code here\n",
    "    # Compute gradient starting from logit\n",
    "    self.model.zero_grad()\n",
    "    logit.backward()\n",
    "\n",
    "    return input.grad[0].detach().cpu().numpy().squeeze()\n",
    "\n",
    "  # TODO: Implement Gradient X Input explanation\n",
    "  def gradient_x_input(self, input, target=None):\n",
    "    # Your code here\n",
    "    grad = self.vanilla_gradient(input)\n",
    "    gradients = input * grad\n",
    "    return gradients.squeeze()"
   ]
  },
  {
   "cell_type": "code",
   "execution_count": null,
   "metadata": {
    "cellView": "form",
    "id": "Bn6afmBrc6Kc"
   },
   "outputs": [],
   "source": [
    "#@title Solution Vanilla Gradient\n",
    "def vanilla_gradient(self, input, target=None):\n",
    "    input = GradientExplainer.prep_input(input)\n",
    "\n",
    "    # Your code here\n",
    "    input.requires_grad = True\n",
    "    # Forward-pass\n",
    "    output = self.model(input)\n",
    "\n",
    "    # Remove batch dimension\n",
    "    output = output.squeeze(0)\n",
    "    # Determine scalar for backprop\n",
    "    if output.dim() == 0:\n",
    "        logit = output\n",
    "    else:\n",
    "        predicted_class = output.argmax().item()\n",
    "        logit = output[predicted_class]\n",
    "\n",
    "    # Your code here\n",
    "    # Compute gradient starting from logit\n",
    "    self.model.zero_grad()\n",
    "    logit.backward()\n",
    "\n",
    "    return input.grad[0].detach().cpu().numpy().squeeze()"
   ]
  },
  {
   "cell_type": "code",
   "execution_count": null,
   "metadata": {
    "cellView": "form",
    "id": "uVCro205dj2h"
   },
   "outputs": [],
   "source": [
    "#@title Solution Gradient X Input\n",
    "def gradient_x_input(self, input, target=None):\n",
    "    grad = self.vanilla_gradient(input)\n",
    "    gradients = input * grad\n",
    "    return gradients.squeeze()"
   ]
  },
  {
   "cell_type": "markdown",
   "metadata": {
    "id": "rc6V7gg0fpZL"
   },
   "source": [
    "### 2.3 Difference between Vanilla Gradient and Gradient x Input explanation\n",
    "\n",
    "As mentioned earlier, vanilla gradients and the gradient × input method differ conceptually. Vanilla gradients measure the sensitivity of the model’s prediction with respect to each input feature, capturing how much a small change in a feature, e.g. a pixel, would affect the output. In contrast, the gradient × input approach also considers the magnitude of the input feature itself, providing a form of feature attribution: it indicates how much the actual value of a feature contributes to the model’s prediction.\n",
    "\n",
    "In the following notebook you will apply the implementations form above to two examples that illustrate the difference.\n",
    "\n",
    "**Example 1:**\n",
    "\n",
    "Lets assume we have a simple model:\n",
    "\n",
    "$f(x) = 2 * x_1 + 0.1 * x_2 $, and an input $ x = [1, 10] $\n",
    "\n",
    "Use your own implementations from above to compute the different gradient explanations and compare the results."
   ]
  },
  {
   "cell_type": "code",
   "execution_count": null,
   "metadata": {
    "colab": {
     "base_uri": "https://localhost:8080/"
    },
    "id": "zZMUR92Fi8ck",
    "outputId": "dafbba8f-1754-4efd-cb30-b1926b322f88"
   },
   "outputs": [],
   "source": [
    "# Input\n",
    "x = torch.tensor([1., 10.])\n",
    "\n",
    "# Define toy model that represents the function f(x) = 2*x_1+0.1*x_2\n",
    "class SimpleModel(nn.Module):\n",
    "    def __init__(self):\n",
    "        super().__init__()\n",
    "        # Linear layer without bias that takes two values and outputs one input\n",
    "        self.linear = nn.Linear(2, 1, bias=False)\n",
    "        # Manually set weights to match f(x1, x2) = 2*x1 + 0.1*x2\n",
    "        with torch.no_grad():\n",
    "            self.linear.weight.copy_(torch.tensor([[2.0, 0.1]]))\n",
    "\n",
    "    def forward(self, x):\n",
    "        return self.linear(x)\n",
    "\n",
    "# Create model\n",
    "model = SimpleModel()\n",
    "\n",
    "\n",
    "# TODO: compute vanilla gradient and gradient x input for the SimpleModel with regards to x\n",
    "# Your solution here\n",
    "explainer = GradientExplainer(model)\n",
    "vanilla_gradient = explainer.vanilla_gradient(x)\n",
    "gradient_x_input = explainer.gradient_x_input(x)\n",
    "\n",
    "print(f\"Vanilla Gradient: {vanilla_gradient}\")\n",
    "print(f\"Gradient x Input: {gradient_x_input}\")\n"
   ]
  },
  {
   "cell_type": "code",
   "execution_count": null,
   "metadata": {
    "cellView": "form",
    "id": "vc-M9unxfWT9"
   },
   "outputs": [],
   "source": [
    "#@title Solution\n",
    "explainer = GradientExplainer(model)\n",
    "vanilla_gradient = explainer.vanilla_gradient(x)\n",
    "gradient_x_input = explainer.gradient_x_input(x)\n",
    "\n",
    "print(f\"Vanilla Gradient: {vanilla_gradient.numpy()}\")\n",
    "print(f\"Gradient x Input: {gradient_x_input.numpy()}\")"
   ]
  },
  {
   "cell_type": "markdown",
   "metadata": {
    "id": "ySs4w4EYmPa0"
   },
   "source": [
    "**Example 2**\n",
    "\n",
    "In the second example we will analyze the differences in a more sophisticated use case, i.e. classification of handwritten digits. In the following notebook will:\n",
    "\n",
    "1. Load MNIST sample data and perform data preparation steps\n",
    "2. Implement a simple CNN model and training loop\n",
    "3. Train the model for the classification task on the training split and provide validation performance\n",
    "4. Load test instance to explain model predictions"
   ]
  },
  {
   "cell_type": "code",
   "execution_count": null,
   "metadata": {
    "colab": {
     "base_uri": "https://localhost:8080/",
     "height": 460,
     "referenced_widgets": [
      "9f1502bb41b742769abe516d6077dd97",
      "5e8776b71e024c81b116d963abdc0411",
      "25474f509f29492bb982042312bdc7b3",
      "61752e466d064e93a155c71f7a3c8c4f",
      "d99a740efc83421e938328a957f018a8",
      "5db37313b9d24e2993c648b83235cc18",
      "d36407903e024eb3aec5d654f34ba6b1",
      "fc8885cecfba4d1185a20a9c15dc109e",
      "c346da1a55834641a80b2e0a2a3e6f80",
      "f2b6f4f4e3234f8582dc8c3a9882511d",
      "34cdb13ab9e641d5bfa41a16988a97d2",
      "856efb78845d494f97b7d709a4309f29",
      "020bdaa72e8f460586121dff72ac148f",
      "a7132964a9284e0daab223401f1aaa40",
      "8b83f357d0b8491b84c1e495916f22c8",
      "0ad8730ded69402189349417900776d3",
      "3575f093e580420bb09ae19e32849a0a",
      "7d19dd11c5b844faaa19294e453e9c1e",
      "5f87a589284c4cf39caa1c2f6a4cff5f",
      "9690a10649784d4cbd13c580a0355272",
      "4605f6a74d76410687a4aa4d29e12a94",
      "c63ce27c05e84627b56bf82ddf59608f",
      "efbfd7f1226143d3921c40d572513641",
      "54691302865843849c35e6d93715d2ad",
      "c068df1d8b6543ebabb9f942dddfc6b3",
      "18f07b91418c4ccca875cda55d80c546",
      "b454235a33894e4bb1010dbe5a042f21",
      "0fb9e9a4729f4eb9be355dfa08e996d9",
      "1173563bcbe845ada78b42ab4e5b8b15",
      "cef9b0063ac64042b59fcbf3ce3554cb",
      "269c4a09cde0493cac6a93023b66d456",
      "80932a9485834c86a6fc07125f65e692",
      "0a7a217b60854f5c92a974b52d3fc613",
      "c81c8bcfdd5e403ebd38fc052c27c9c4",
      "35029eeef775463bae51bf33689abf50",
      "d3809093af1f419dad1d4df96128fb96",
      "6591ae8971c8486dba197a112d9db09c",
      "a4f5c44c98a3493aa7de95f9396591d3",
      "1697959fb4be44c4ae4cf7f27a0a91e6",
      "f0755de0c1f64701863af1c526261585",
      "b8c8ca8569a24948ba82579b6d412b24",
      "33952e818ecf4582a8c9fd45560805e4",
      "f779fa13622c49af82a207c1965ba162",
      "95dae81b6fdf44b092849dba0220c15b",
      "a8547063a2564979b425d904b39b0d31",
      "f0c940b357c94ddb9de4a43282bd7bbb",
      "dfcf7c572a6c437abf89edeef61e792d",
      "fb973bc4917e4f09a10a3401cdf55478",
      "28db1b995c7d421eb4b29b5877854eb0",
      "2e9fd446265647f784e50f5600fd1adc",
      "9ca06e2591864992a0e50d490b2b3de3",
      "67e909650e1b4336b596c3c6233f98bc",
      "af9f199200a74f7b9d7127c835c949c2",
      "77ca009d92b746b7a449169300a68899",
      "ebf9c99cafa14112bd72caaba28fdef1",
      "7245faf254b542b988646839808f098e",
      "0e672ebed3da4fde9ffc3781c119677f",
      "c74726a524f340f48965bf7fb8039922",
      "23dd1cbd81b44574b80a77e2a219361d",
      "178cc541f7054ac38444e6038c5a52d9",
      "7be1d7ff4db04be6b79d0295a7eb5f64",
      "ca7b602cf4b44fe9938d2df94ff783fd",
      "3d448cc35f0348ac8981b39d86a4648c",
      "b505d54632544ebb8419327a7fbbefd1",
      "0d0a34b8c23d4bd1aed808597ee71aa7",
      "355ae1c36f694a2aa0eb7f0093736730",
      "2b4edd184c964118b2a82835dabf5bfc",
      "1745e753bca8490ab47374f8ff97afd7",
      "92317cfb28e64cffb08b3de2441cd815",
      "b1f94e14704c4f59aad2b9d3a57ebe3c",
      "5d33794ed6b84e1292468031923c04ba",
      "718b07016dbd47aca20071118198d4b0",
      "11fc0289d7c948f99e035a40388ea3d7",
      "5b1a8d3a136c4353baef40b378dc3382",
      "65a8d0d2ff1d446ab1155ebc9bb36748",
      "5a4e4a82965346f6b83ed540d0ed6034",
      "5170221494b749c8bc65205f2422e3c8"
     ]
    },
    "id": "YXQlaZmY87aL",
    "outputId": "1f5b9c96-62fb-4a74-e452-9284053f0800"
   },
   "outputs": [],
   "source": [
    "from mnist_utils import *\n",
    "\n",
    "# Load data\n",
    "mnist_path = f\"{data_path}/mnist/mnist_train_small.csv\"\n",
    "train_loader, val_loader = load_and_prep_data(mnist_path)\n",
    "\n",
    "# Build model\n",
    "model = LitMNIST_CNN(lr=0.001)\n",
    "\n",
    "# Train model\n",
    "fit_model(model, train_loader, val_loader)\n"
   ]
  },
  {
   "cell_type": "code",
   "execution_count": null,
   "metadata": {
    "id": "SfstSJd59gjf"
   },
   "outputs": [],
   "source": [
    "# Load test data to explain\n",
    "test_path = f\"{data_path}/mnist/mnist_test.csv\"\n",
    "test_dat = load_test_data(test_path)"
   ]
  },
  {
   "cell_type": "code",
   "execution_count": null,
   "metadata": {
    "colab": {
     "base_uri": "https://localhost:8080/",
     "height": 366
    },
    "id": "m1UK6Pp8C17M",
    "outputId": "84569f76-420d-4411-b055-1266a9776b1b"
   },
   "outputs": [],
   "source": [
    "# Your code here\n",
    "# Initialize GradientExplainer object with trained model and generate\n",
    "# vanilla gradient and gradient_x_input explanation of the first instace of the test data\n",
    "\n",
    "explainer = GradientExplainer(model)\n",
    "input, _ = test_dat[0]\n",
    "vanilla_gradient = explainer.vanilla_gradient(input)\n",
    "grad_x_input = explainer.gradient_x_input(input)\n",
    "\n",
    "plot_gradients(input, vanilla_gradient, grad_x_input)"
   ]
  },
  {
   "cell_type": "markdown",
   "metadata": {
    "id": "j7R4UidfYcps"
   },
   "source": [
    "# 3. Saliency Maps for DeepDrebin (Gradients & Gradients × Input)\n",
    "\n",
    "This notebook:\n",
    "1. Loads a single **bundle** file (model + selector + selected feature names).\n",
    "2. Loads a filtered **LIBSVM** dataset (labels `-1/+1` → `{0,1}`).\n",
    "3. Splits into **train/val/test** using the same seed/splits stored in the bundle (for comparability).\n",
    "4. Transforms with the bundled **SelectKBest** into the selected-feature space.\n",
    "5. Picks **N malicious** samples (by label) and computes saliency with:\n",
    "   - **Gradients**: $|\\frac{\\partial (\\text{logit})}{\\partial x}|$\n",
    "   - **Gradients × Input**: $|x \\cdot \\frac{\\partial (logit)}{\\partial x}|$\n",
    "6. Prints **top-K feature names** with scores and (optionally) saves a CSV."
   ]
  },
  {
   "cell_type": "code",
   "execution_count": null,
   "metadata": {
    "id": "jwVHva6zWU_o"
   },
   "outputs": [],
   "source": [
    "from drebin_utils import *"
   ]
  },
  {
   "cell_type": "code",
   "execution_count": null,
   "metadata": {
    "id": "ISq1XoQjW2Cn"
   },
   "outputs": [],
   "source": [
    "# Set configs\n",
    "DATA_PATH = f\"{data_path}/drebin\"\n",
    "BUNDLE_PATH = os.path.join(DATA_PATH, \"drebin_bundle.pt\")\n",
    "LIBSVM_DATA = os.path.join(DATA_PATH, \"drebin_filtered.libsvm.gz\")\n",
    "NUM_MALWARE = 5\n",
    "TOP_K = 10\n",
    "DEVICE = \"cpu\""
   ]
  },
  {
   "cell_type": "code",
   "execution_count": null,
   "metadata": {
    "colab": {
     "base_uri": "https://localhost:8080/"
    },
    "id": "S_LRcfJ2XT9u",
    "outputId": "08e0b9a1-7869-41c3-ecd8-2a482040f8d6"
   },
   "outputs": [],
   "source": [
    "# Build model and load data\n",
    "model, bundle = build_model(BUNDLE_PATH, DEVICE)\n",
    "X, y = load_libsvm(LIBSVM_DATA, bundle[\"selector\"], bundle[\"model_hparams\"])"
   ]
  },
  {
   "cell_type": "code",
   "execution_count": null,
   "metadata": {
    "colab": {
     "base_uri": "https://localhost:8080/"
    },
    "id": "wZTYIDQ-YbPX",
    "outputId": "321ff0aa-5285-4ecc-f0f6-7906d8523e43"
   },
   "outputs": [],
   "source": [
    "# Pick instances to explain\n",
    "picked_indices, probs_all = pick_malicious_indices(X, y, model, num=NUM_MALWARE)\n",
    "\n",
    "print(f\"Selected {len(picked_indices)} malicious samples:\")\n",
    "for r, i in enumerate(picked_indices, 1):\n",
    "    gt = f\", y={int(y[i])}\" if y is not None else \"\"\n",
    "    print(f\"{r:2d}. idx={i:>6}  prob_mal={probs_all[i]:.4f}{gt}\")"
   ]
  },
  {
   "cell_type": "code",
   "execution_count": null,
   "metadata": {
    "colab": {
     "base_uri": "https://localhost:8080/",
     "height": 1000
    },
    "id": "cToD-yN5bG1A",
    "outputId": "071a22bd-a7b0-4da2-cacd-a66d302c9f97"
   },
   "outputs": [],
   "source": [
    "def explain_sample(bundle, i: int, top_k: int = 10) -> dict:\n",
    "    \"\"\"\n",
    "    Explain a single sample using Gradients and Input×Gradients.\n",
    "    Shows only positive (malicious) contributions, sorted descending.\n",
    "    Renders a heatmap for each method with a red→blue colorbar (cells in shades of red).\n",
    "    \"\"\"\n",
    "    x = X[i]\n",
    "\n",
    "    # Your code here\n",
    "    #\n",
    "    explainer = GradientExplainer(model)\n",
    "    grad = explainer.vanilla_gradient(x)\n",
    "    ixg = explainer.gradient_x_input(x)\n",
    "    #grad = compute_gradients(model, x)\n",
    "    #ixg  = compute_input_x_gradients(model, x)\n",
    "\n",
    "    # Keep *only* positive contributions and take top-k\n",
    "    grad_idx = topk_positive(grad, top_k)\n",
    "    ixg_idx  = topk_positive(ixg,  top_k)\n",
    "\n",
    "    # Build lists sorted by descending score (most malicious first)\n",
    "    grad_scores = np.array([grad[j] for j in grad_idx], dtype=float)\n",
    "    grad_names  = [fname(bundle[\"selected_names\"], j) for j in grad_idx]\n",
    "\n",
    "    ixg_scores  = np.array([ixg[j]  for j in ixg_idx], dtype=float)\n",
    "    ixg_names   = [fname(bundle[\"selected_names\"], j) for j in ixg_idx]\n",
    "\n",
    "    # Header\n",
    "    print(f\"\\n=== Sample {i} ===\")\n",
    "    if y is not None:\n",
    "        print(f\"Ground truth label: {int(y[i])} (1=malware)\")\n",
    "    p = float(predict_proba(model, X[i:i+1])[0])\n",
    "    print(f\"Predicted malware probability: {p:.4f}\")\n",
    "\n",
    "    # Heatmaps: most relevant on top (already sorted)\n",
    "    if len(grad_scores):\n",
    "        plot_malicious_heatmap(grad_scores, grad_names, \"Gradients (malicious)\")\n",
    "    else:\n",
    "        print(\"No positive (malicious) gradient contributions found.\")\n",
    "\n",
    "    if len(ixg_scores):\n",
    "        plot_malicious_heatmap(ixg_scores, ixg_names, \"Input × Gradients (malicious)\")\n",
    "    else:\n",
    "        print(\"No positive (malicious) Input×Gradients contributions found.\")\n",
    "\n",
    "    return {\n",
    "        \"sample_index\": i,\n",
    "        \"prob_malware\": p,\n",
    "        \"top_gradients\": [\n",
    "            {\"index\": int(j), \"name\": fname(bundle[\"selected_names\"], j), \"score\": float(grad[j])}\n",
    "            for j in grad_idx\n",
    "        ],\n",
    "        \"top_input_x_gradients\": [\n",
    "            {\"index\": int(j), \"name\": fname(bundle[\"selected_names\"], j), \"score\": float(ixg[j])}\n",
    "            for j in ixg_idx\n",
    "        ],\n",
    "    }\n",
    "\n",
    "# Re-run explanations for the picked malicious samples\n",
    "explanations = [explain_sample(bundle, i, top_k=TOP_K) for i in picked_indices]"
   ]
  }
 ],
 "metadata": {
  "colab": {
   "provenance": []
  },
  "kernelspec": {
   "display_name": "Python 3",
   "name": "python3"
  },
  "language_info": {
   "name": "python"
  }
 },
 "nbformat": 4,
 "nbformat_minor": 0
}
