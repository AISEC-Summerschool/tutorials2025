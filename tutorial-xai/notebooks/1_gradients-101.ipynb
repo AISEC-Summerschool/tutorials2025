{
 "cells": [
  {
   "metadata": {},
   "cell_type": "markdown",
   "source": "# XAI for Security Tutorial Part 1",
   "id": "6e93b260099bad36"
  },
  {
   "metadata": {},
   "cell_type": "markdown",
   "source": [
    "# 1. Warm-Up: Gradient of a simple function\n",
    "\n",
    "In this warm-up we first want to recap how you can compute gradients of a simple function w.r.t. one of its variables.\n",
    "\n",
    "**1.1)** Define a simple function $f(x) = x^{2} + 3x$ and compute it's gradient w.r.t. the variable x."
   ],
   "id": "639cc21122396789"
  },
  {
   "metadata": {},
   "cell_type": "code",
   "outputs": [],
   "execution_count": null,
   "source": [
    "import torch\n",
    "# Define a scalar tensor and enable gradient tracking\n",
    "x = torch.tensor(2.0, requires_grad=True)\n",
    "\n",
    "# Define a simple function f(x) = x^2 + 3x\n",
    "f = x**2 + 3 * x\n",
    "\n",
    "# Compute gradient\n",
    "f.backward()\n",
    "\n",
    "print(f\"Value of f(x): {f.item()}\")\n",
    "print(f\"Gradient df/dx: {x.grad.item()}\")"
   ],
   "id": "d63f41e63820626"
  },
  {
   "metadata": {},
   "cell_type": "markdown",
   "source": "**1.2)** To obtain $\\frac{\\partial^{2}}{\\partial x^{2}}x^{2}$, we simply compute the gradient of the function w.r.t. two times in a row. Do you obtain the expected result? If not why?",
   "id": "141ae39d91f8f775"
  },
  {
   "metadata": {},
   "cell_type": "code",
   "outputs": [],
   "execution_count": null,
   "source": [
    "x = torch.tensor(2.0, requires_grad=True)\n",
    "\n",
    "for i in range(2):\n",
    "    f = x**2\n",
    "    f.backward()\n",
    "    print(f\"Run {i}: gradient =\", x.grad.item())"
   ],
   "id": "749c722f6c1f44aa"
  },
  {
   "metadata": {},
   "cell_type": "markdown",
   "source": "**1.3)** Modify the code, such that it computes the second-order derivative correctly.",
   "id": "64d1136207c9369c"
  },
  {
   "metadata": {},
   "cell_type": "code",
   "outputs": [],
   "execution_count": null,
   "source": [
    "x = torch.tensor(2.0, requires_grad=True)\n",
    "\n",
    "f = x**2\n",
    "y = f\n",
    "\n",
    "for i in range(2):\n",
    "    if x.grad is not None:\n",
    "        x.grad.zero_()\n",
    "    y.backward(create_graph=True)\n",
    "    print(f\"Derivative order {i+1}:\", x.grad.item())\n",
    "    y = x.grad.clone()"
   ],
   "id": "cfb9e00fcb7bf8ac"
  }
 ],
 "metadata": {
  "kernelspec": {
   "display_name": "Python 3",
   "language": "python",
   "name": "python3"
  },
  "language_info": {
   "codemirror_mode": {
    "name": "ipython",
    "version": 2
   },
   "file_extension": ".py",
   "mimetype": "text/x-python",
   "name": "python",
   "nbconvert_exporter": "python",
   "pygments_lexer": "ipython2",
   "version": "2.7.6"
  }
 },
 "nbformat": 4,
 "nbformat_minor": 5
}
